{
 "cells": [
  {
   "cell_type": "markdown",
   "id": "c7d4de9a-e7dc-4cf3-bd8d-7da869ceb9ac",
   "metadata": {},
   "source": [
    "# Hermitian Matrices, Unitary Matrices and Tensor Product"
   ]
  },
  {
   "cell_type": "markdown",
   "id": "007db568-62bf-4098-a52f-281b41db3012",
   "metadata": {},
   "source": [
    "\n",
    "# Understanding Complex Hermitian and Unitary Matrices\n",
    "\n",
    "This tutorial delves into two pivotal concepts in quantum computing and linear algebra: complex Hermitian and Unitary matrices. Both play critical roles in quantum mechanics and quantum computing, underpinning the behavior of quantum systems and the operations performed on them.\n",
    "\n",
    "## Objectives\n",
    "- Define and explore the properties of complex Hermitian matrices.\n",
    "- Understand and implement complex Unitary matrices in Python.\n",
    "- Highlight their significance and applications in quantum computing.\n",
    "\n",
    "Prepare to enhance your mathematical toolkit with these foundational concepts, illustrated with Python examples for a hands-on learning experience.\n"
   ]
  },
  {
   "cell_type": "markdown",
   "id": "172b4789-ccc2-41be-ae1b-fff456a76c41",
   "metadata": {},
   "source": [
    "\n",
    "## Complex Hermitian Matrices\n",
    "\n",
    "A Hermitian matrix, or self-adjoint matrix, is a square matrix that is equal to its own conjugate transpose. This property makes it a natural representation of observable quantities in quantum mechanics.\n",
    "\n",
    "### Properties\n",
    "- The eigenvalues of a Hermitian matrix are always real.\n",
    "- The eigenvectors of a Hermitian matrix corresponding to different eigenvalues are orthogonal.\n",
    "- Hermitian matrices are extensively used in quantum mechanics to describe physical observables.\n",
    "\n",
    "### Python Example: Defining a Hermitian Matrix\n"
   ]
  },
  {
   "cell_type": "code",
   "execution_count": null,
   "id": "be7b7f14-c501-4fd9-a482-73f4acf8bfd9",
   "metadata": {},
   "outputs": [],
   "source": [
    "\n",
    "import numpy as np\n",
    "\n",
    "# Define a complex Hermitian matrix\n",
    "hermitian_matrix = np.array([[2+0j, 2-1j], [2+1j, 3+0j]])\n",
    "\n",
    "# Check if the matrix is Hermitian\n",
    "is_hermitian = np.allclose(hermitian_matrix, hermitian_matrix.conj().T)\n",
    "\n",
    "is_hermitian, hermitian_matrix\n"
   ]
  },
  {
   "cell_type": "markdown",
   "id": "6c6e41c4-7edb-46e0-b5a3-9dc381541312",
   "metadata": {},
   "source": [
    "\n",
    "## Complex Unitary Matrices\n",
    "\n",
    "A Unitary matrix is a square matrix whose conjugate transpose is also its inverse. Unitary matrices preserve the inner product, making them essential for describing quantum gates and evolution in quantum computing.\n",
    "\n",
    "### Properties\n",
    "- Preserves the norm of vectors, hence preserving quantum states during transformations.\n",
    "- The determinant of a Unitary matrix has an absolute value of 1.\n",
    "- Used to represent reversible quantum operations and time evolution in quantum systems.\n",
    "\n",
    "### Python Example: Defining a Unitary Matrix\n"
   ]
  },
  {
   "cell_type": "code",
   "execution_count": null,
   "id": "72119954-9647-4f66-93e9-c014c05bb48c",
   "metadata": {},
   "outputs": [],
   "source": [
    "\n",
    "# Define a complex Unitary matrix\n",
    "unitary_matrix = np.array([[1/np.sqrt(2), 1/np.sqrt(2)], [1/np.sqrt(2)*1j, -1/np.sqrt(2)*1j]])\n",
    "\n",
    "# Check if the matrix is Unitary\n",
    "# np.eye(2) returns the identity of size 2x2\n",
    "is_unitary = np.allclose(np.dot(unitary_matrix, unitary_matrix.conj().T), np.eye(2))\n",
    "\n",
    "is_unitary, unitary_matrix\n"
   ]
  },
  {
   "cell_type": "markdown",
   "id": "85750bcf-34ab-49ab-9163-509b29e719c9",
   "metadata": {},
   "source": [
    "# Tensor product"
   ]
  },
  {
   "cell_type": "markdown",
   "id": "b85487ee-1d19-47ab-a0a7-e05c8b758b13",
   "metadata": {},
   "source": [
    "\n",
    "## Tensor Product for Complex Vectors\n",
    "\n",
    "The tensor product of two complex vectors creates a new vector in a higher-dimensional space, allowing us to combine quantum states in quantum computing.\n",
    "\n",
    "### Example\n"
   ]
  },
  {
   "cell_type": "code",
   "execution_count": null,
   "id": "c4619aad-e04f-4787-a8ff-8e324f13b816",
   "metadata": {},
   "outputs": [],
   "source": [
    "\n",
    "import numpy as np\n",
    "\n",
    "# Define two complex vectors for the tensor product\n",
    "v1 = np.array([1+2j, 3+4j])\n",
    "v2 = np.array([5+6j, 7+8j])\n",
    "\n",
    "# Calculate the tensor product\n",
    "tensor_product_v = np.kron(v1, v2)\n",
    "\n",
    "tensor_product_v\n"
   ]
  },
  {
   "cell_type": "markdown",
   "id": "aa89e379-8ce8-493d-8b0e-6461a7fc1325",
   "metadata": {},
   "source": [
    "\n",
    "## Tensor Product for Complex Matrices\n",
    "\n",
    "The tensor product for matrices combines individual matrices into a larger matrix, crucial for representing multiple qubit systems in quantum computing.\n",
    "\n",
    "### Example\n"
   ]
  },
  {
   "cell_type": "code",
   "execution_count": null,
   "id": "c558e2f2-8ecf-466a-8fb4-469566157419",
   "metadata": {},
   "outputs": [],
   "source": [
    "\n",
    "# Define two complex matrices for the tensor product\n",
    "M1 = np.array([[1+2j, 3+4j], [5+6j, 7+8j]])\n",
    "M2 = np.array([[9+10j, 11+12j], [13+14j, 15+16j]])\n",
    "\n",
    "# Calculate the tensor product\n",
    "tensor_product_m = np.kron(M1, M2)\n",
    "\n",
    "tensor_product_m\n"
   ]
  },
  {
   "cell_type": "markdown",
   "id": "ffa82608-ea8c-4bc7-b357-a8552a649f0c",
   "metadata": {},
   "source": [
    "# Exercises on Complex Vector and Matrix Operations\n",
    "\n",
    "This set of exercises is designed to test your understanding of various concepts related to complex vector and matrix operations, which are foundational in quantum computing. Each exercise presents a concrete case for you to apply what you've learned about Hermitian matrices, Unitary matrices, and tensor products.\n",
    "\n",
    "NOTE: VERIFY YOUR COMPUTATIONS IN PAPER AND IN THE COMPUTER.\n",
    "\n",
    "## Exercise 1: Complex Hermitian Matrices\n",
    "\n",
    "Consider the matrix:\n",
    "\n",
    "$$ H = \\begin{bmatrix} 3 & 2+i \\\\ 2-i & 1 \\end{bmatrix} $$\n",
    "\n",
    "- Verify if $ H $ is a Hermitian matrix.\n",
    "- If it is, find its eigenvalues.\n",
    "\n",
    "## Exercise 2: Complex Unitary Matrices\n",
    "\n",
    "Consider the matrix:\n",
    "\n",
    "$$ U = \\frac{1}{\\sqrt{2}}\\begin{bmatrix} 1 & i \\\\ i & 1 \\end{bmatrix} $$\n",
    "\n",
    "- Verify if $ U $ is a Unitary matrix.\n",
    "- Compute $ UU^\\dagger $ to confirm its Unitarity, where $ U^\\dagger $ denotes the conjugate transpose of $ U $.\n",
    "\n",
    "## Exercise 3: Tensor Product for Complex Vectors\n",
    "\n",
    "Given the complex vectors:\n",
    "\n",
    "$$ \\mathbf{v} = \\begin{bmatrix} 1+i \\\\ 2-i \\end{bmatrix}, \\quad \\mathbf{w} = \\begin{bmatrix} 1-2i \\\\ 3 \\end{bmatrix} $$\n",
    "\n",
    "Calculate the tensor product $ \\mathbf{v} \\otimes \\mathbf{w} $.\n",
    "\n",
    "## Exercise 4: Tensor Product for Complex Matrices\n",
    "\n",
    "Given the matrices:\n",
    "\n",
    "$$ M_1 = \\begin{bmatrix} 0 & 1 \\\\ 1 & 0 \\end{bmatrix}, \\quad M_2 = \\begin{bmatrix} i & 0 \\\\ 0 & -i \\end{bmatrix} $$\n",
    "\n",
    "Calculate the tensor product $ M_1 \\otimes M_2 $.\n",
    "\n",
    "## Exercise 5: Modelling quantum computations with vectors and matrices\n",
    "\n",
    "Using matrices and vectors, implement a model of the Mach/Zehnder interferometer.\n",
    "\n",
    "![Mach-Zehnder interferometer](images/Mach-Zehnder-Interferometer.png)\n",
    "\n",
    "## Exercise 6: Composing quantum systems \n",
    "\n",
    "Using matrices and vectors, implement a model of the following circuit.\n",
    "\n",
    "![Mach-Zehnder interferometer](images/Deutsch-Algorithm.png)\n",
    "\n",
    "Use the following MAtrix for $U_f$:\n",
    "\n",
    "![Mach-Zehnder interferometer](images/ExampleUf.png)\n",
    "\n"
   ]
  },
  {
   "cell_type": "markdown",
   "id": "49f7acbf-359a-4684-9b1f-4e3e761aebc0",
   "metadata": {},
   "source": [
    "## Exercise 1: \n",
    "### Complex Hermitian Matrices\n",
    "\n",
    "Consider the matrix:\n",
    "\n",
    "$$ H = \\begin{bmatrix} 3 & 2+i \\\\ 2-i & 1 \\end{bmatrix} $$\n",
    "\n",
    "- Verify if $ H $ is a Hermitian matrix.\n",
    "- If it is, find its eigenvalues.\n"
   ]
  },
  {
   "cell_type": "code",
   "execution_count": 1,
   "id": "88e33dfd-c15e-4cbb-8b20-208efb0aadf7",
   "metadata": {},
   "outputs": [
    {
     "name": "stdout",
     "output_type": "stream",
     "text": [
      "It is hermitian\n",
      "Eigenvalues: [-0.44948974  4.44948974]\n"
     ]
    }
   ],
   "source": [
    "import numpy as np\n",
    "\n",
    "\n",
    "H = np.array([[3, 2 + 1j],\n",
    "              [2 - 1j, 1]])\n",
    "\n",
    "def es_hermitiana(matriz):\n",
    "    return np.allclose(matriz, matriz.conj().T)\n",
    "\n",
    "if es_hermitiana(H):\n",
    "    print(\"It is hermitian\")\n",
    "else:\n",
    "    print(\"It is not hermitian.\")\n",
    "\n",
    "autovalores = np.linalg.eigvalsh(H)\n",
    "\n",
    "\n",
    "print(\"Eigenvalues:\", autovalores)"
   ]
  },
  {
   "cell_type": "markdown",
   "id": "1469febe-f7e0-4238-8e0f-62aa0ced12f2",
   "metadata": {},
   "source": [
    "## Exercise 2: {\n",
    "### Complex Unitary Matrices\n",
    "\n",
    "Consider the matrix:\n",
    "\n",
    "$$ U = \\frac{1}{\\sqrt{2}}\\begin{bmatrix} 1 & i \\\\ i & 1 \\end{bmatrix} $$\n",
    "\n",
    "- Verify if $ U $ is a Unitary matrix.\n",
    "- Compute $ UU^\\dagger $ to confirm its Unitarity, where $ U^\\dagger $ denotes the conjugate transpose of $ U $."
   ]
  },
  {
   "cell_type": "code",
   "execution_count": 2,
   "id": "e1bcafc5-431c-47c8-8098-3f29ec10e48b",
   "metadata": {},
   "outputs": [
    {
     "name": "stdout",
     "output_type": "stream",
     "text": [
      "It is not unitary\n",
      "U * Uadjunta\n",
      "[[ 2.5+0.j  0. +2.j]\n",
      " [ 0. -2.j 18.5+0.j]]\n"
     ]
    }
   ],
   "source": [
    "import numpy as np\n",
    "\n",
    "U = (1/np.sqrt(2)) * np.array([[2, 1j], [1j, 6]])\n",
    "\n",
    "def es_unitaria(matriz):\n",
    "    return np.allclose(np.eye(len(matriz)), np.dot(matriz.conj().T, matriz))\n",
    "\n",
    "if es_unitaria(U):\n",
    "    print(\"Its unitary\")\n",
    "else:\n",
    "    print(\"It is not unitary\")\n",
    "\n",
    "\n",
    "UUadj = np.dot(U, U.conj().T)\n",
    "\n",
    "print(\"U * Uadjunta\")\n",
    "print(UUadj)"
   ]
  },
  {
   "cell_type": "markdown",
   "id": "83111898-7bde-402d-808d-a0f8b076c34b",
   "metadata": {},
   "source": [
    "## Exercise 3: \n",
    "### Tensor Product for Complex Vectors\n",
    "\n",
    "Given the complex vectors:\n",
    "\n",
    "$$ \\mathbf{v} = \\begin{bmatrix} 1+i \\\\ 2-i \\end{bmatrix}, \\quad \\mathbf{w} = \\begin{bmatrix} 1-2i \\\\ 3 \\end{bmatrix} $$\n",
    "\n",
    "Calculate the tensor product $ \\mathbf{v} \\otimes \\mathbf{w} $."
   ]
  },
  {
   "cell_type": "code",
   "execution_count": 8,
   "id": "2b267c66-1858-4550-bc67-dfbe4f5954d9",
   "metadata": {},
   "outputs": [
    {
     "name": "stdout",
     "output_type": "stream",
     "text": [
      " v ⊗ w =\n",
      "[[3.-1.j]\n",
      " [3.+3.j]\n",
      " [0.-5.j]\n",
      " [6.-3.j]]\n"
     ]
    }
   ],
   "source": [
    "import numpy as np\n",
    "\n",
    "v = np.array([[1 + 1j], [2 - 1j]])\n",
    "w = np.array([[1 - 2j], [3]])\n",
    "\n",
    "tensor_product = np.kron(v, w)\n",
    "\n",
    "# Imprimir el resultado\n",
    "print(\" v ⊗ w =\")\n",
    "print(tensor_product)"
   ]
  },
  {
   "cell_type": "markdown",
   "id": "6910a4c6-706e-48e2-9a1a-7bade966b549",
   "metadata": {},
   "source": [
    "## Exercise 4: \n",
    "### Tensor Product for Complex Matrices\n",
    "\n",
    "Given the matrices:\n",
    "\n",
    "$$ M_1 = \\begin{bmatrix} 0 & 1 \\\\ 1 & 0 \\end{bmatrix}, \\quad M_2 = \\begin{bmatrix} i & 0 \\\\ 0 & -i \\end{bmatrix} $$\n",
    "\n",
    "Calculate the tensor product $ M_1 \\otimes M_2 $."
   ]
  },
  {
   "cell_type": "code",
   "execution_count": 10,
   "id": "4ad8aa09-2158-4d1c-93e5-e4cb8046ba32",
   "metadata": {},
   "outputs": [
    {
     "name": "stdout",
     "output_type": "stream",
     "text": [
      " M1 ⊗ M2 =\n",
      "[[0.+0.j 0.+0.j 0.+1.j 0.+0.j]\n",
      " [0.+0.j 0.-0.j 0.+0.j 0.-1.j]\n",
      " [0.+1.j 0.+0.j 0.+0.j 0.+0.j]\n",
      " [0.+0.j 0.-1.j 0.+0.j 0.-0.j]]\n"
     ]
    }
   ],
   "source": [
    "import numpy as np\n",
    "\n",
    "M1 = np.array([[0, 1], [1, 0]])\n",
    "M2 = np.array([[1j, 0], [0, -1j]])\n",
    "\n",
    "tensor_product = np.kron(M1, M2)\n",
    "\n",
    "# Imprimir el resultado\n",
    "print(\" M1 ⊗ M2 =\")\n",
    "\n",
    "\n",
    "print(tensor_product)"
   ]
  },
  {
   "cell_type": "markdown",
   "id": "1efc261e-28ba-43ef-b10e-07b5584fa4c6",
   "metadata": {},
   "source": [
    "## Exercise 5:\n",
    "### Modelling quantum computations with vectors and matrices\n",
    "\n",
    "Using matrices and vectors, implement a model of the Mach/Zehnder interferometer.\n",
    "\n",
    "![Mach-Zehnder interferometer](images/Mach-Zehnder-Interferometer.png)\n"
   ]
  },
  {
   "cell_type": "code",
   "execution_count": 19,
   "id": "43ff647e-da01-4288-9832-8f9c51ec84b2",
   "metadata": {},
   "outputs": [
    {
     "name": "stdout",
     "output_type": "stream",
     "text": [
      "[1 0]\n",
      " ket0 * H =\n",
      "[0.70710678 0.70710678]\n",
      " X * Cubit0 =\n",
      "[0.70710678 0.70710678]\n",
      " H * Cubit1 =\n",
      "[1.00000000e+00 2.23711432e-17]\n"
     ]
    }
   ],
   "source": [
    "import numpy as np\n",
    "import math\n",
    "ket0 = np.array([1,0])\n",
    "print(ket0)\n",
    "h = np.array([[1/math.sqrt(2), 1/math.sqrt(2)], [1/math.sqrt(2), -1/math.sqrt(2)]])\n",
    "\n",
    "cubit0 = np.dot(h, ket0)\n",
    "print(\" ket0 * H =\")\n",
    "print(cubit0)\n",
    "\n",
    "negacion = [[0,1],[1,0]]\n",
    "\n",
    "cubit1 = np.dot(negacion,cubit0)\n",
    "print(\" X * Cubit0 =\")\n",
    "print(cubit1)\n",
    "\n",
    "cubit2 = np.dot(h,cubit1)\n",
    "print(\" H * Cubit1 =\")\n",
    "print(cubit2)\n",
    "\n",
    "\n",
    "\n"
   ]
  },
  {
   "cell_type": "markdown",
   "id": "436af158-3490-470b-85ff-527163fea3fa",
   "metadata": {},
   "source": [
    "## Exercise 6: \n",
    "### Composing quantum systems \n",
    "\n",
    "Using matrices and vectors, implement a model of the following circuit.\n",
    "\n",
    "![Mach-Zehnder interferometer](images/Deutsch-Algorithm.png)\n",
    "\n",
    "Use the following MAtrix for $U_f$:\n",
    "\n",
    "![Mach-Zehnder interferometer](images/ExampleUf.png)\n"
   ]
  },
  {
   "cell_type": "code",
   "execution_count": 41,
   "id": "26e24f60-c1c7-4b2b-a0a4-722fc73579e7",
   "metadata": {},
   "outputs": [
    {
     "name": "stdout",
     "output_type": "stream",
     "text": [
      "Ket0\n",
      "[1 0]\n",
      "Ket1\n",
      "[0 1]\n",
      "\n",
      " ket0 * ket1 = Cubit0\n",
      "Cubit0 = [0 1 0 0]\n",
      "\n",
      "H\n",
      "[[ 0.70710678  0.70710678]\n",
      " [ 0.70710678 -0.70710678]]\n",
      "\n",
      " H ⊗ H =\n",
      "[[ 0.5  0.5  0.5  0.5]\n",
      " [ 0.5 -0.5  0.5 -0.5]\n",
      " [ 0.5  0.5 -0.5 -0.5]\n",
      " [ 0.5 -0.5 -0.5  0.5]]\n",
      "\n",
      " (H ⊗ H) * Cubit0 = Cubit1\n",
      "Cubit1 = [ 0.5 -0.5  0.5 -0.5]\n",
      "\n",
      "Uf\n",
      "[[0 1 0 0]\n",
      " [1 0 0 0]\n",
      " [0 0 1 0]\n",
      " [0 0 0 1]]\n",
      "\n",
      "Uf * Cubit1 = Cubit2\n",
      "Cubit2 = [-0.5  0.5  0.5 -0.5]\n",
      "\n",
      "I\n",
      "[[1, 0], [0, 1]]\n",
      "\n",
      " (H ⊗ I) =\n",
      "[[ 0.70710678  0.          0.70710678  0.        ]\n",
      " [ 0.          0.70710678  0.          0.70710678]\n",
      " [ 0.70710678  0.         -0.70710678 -0.        ]\n",
      " [ 0.          0.70710678 -0.         -0.70710678]]\n",
      "\n",
      "(H ⊗ I) * Cubit2 = Cubit3\n",
      "Cubit3 = [ 0.          0.         -0.70710678  0.70710678]\n",
      "\n"
     ]
    }
   ],
   "source": [
    "import numpy as np\n",
    "import math\n",
    "\n",
    "ket0 = np.array([1,0])\n",
    "ket1 = np.array([0,1])\n",
    "print(\"Ket0\")\n",
    "print(ket0)\n",
    "print(\"Ket1\")\n",
    "print(ket1)\n",
    "print()\n",
    "\n",
    "cubit0 = np.kron(ket0, ket1)\n",
    "print(\" ket0 * ket1 = Cubit0\")\n",
    "print(\"Cubit0 =\",cubit0)\n",
    "print()\n",
    "\n",
    "h = np.array([[1/math.sqrt(2), 1/math.sqrt(2)], [1/math.sqrt(2), -1/math.sqrt(2)]])\n",
    "print(\"H\")\n",
    "print(h)\n",
    "print()\n",
    "\n",
    "prod_tens = np.kron(h,h)\n",
    "print(\" H ⊗ H =\")\n",
    "print(prod_tens)\n",
    "print()\n",
    "\n",
    "cubit1 = np.dot(prod_tens,cubit0)\n",
    "print(\" (H ⊗ H) * Cubit0 = Cubit1\")\n",
    "print(\"Cubit1 =\",cubit1)\n",
    "print()\n",
    "\n",
    "\n",
    "uf = np.array([[0,1,0,0],[1,0,0,0],[0,0,1,0],[0,0,0,1]])\n",
    "print(\"Uf\")\n",
    "print(uf)\n",
    "print() \n",
    "\n",
    "cubit2 = np.dot(uf,cubit1)\n",
    "print(\"Uf * Cubit1 = Cubit2\")\n",
    "print(\"Cubit2 =\",cubit2)\n",
    "print()\n",
    "\n",
    "identidad = [[1,0],[0,1]]\n",
    "print(\"I\")\n",
    "print(identidad)\n",
    "print()\n",
    "\n",
    "prod_tenss = np.kron(h,identidad)\n",
    "print(\" (H ⊗ I) =\")\n",
    "print(prod_tenss)\n",
    "print()\n",
    "\n",
    "\n",
    "cubit3 = np.dot(prod_tenss,cubit2)\n",
    "print(\"(H ⊗ I) * Cubit2 = Cubit3\")\n",
    "print(\"Cubit3 =\",cubit3)\n",
    "print()\n",
    "\n"
   ]
  },
  {
   "cell_type": "code",
   "execution_count": null,
   "id": "472d75b1-fbd5-4619-8650-8ceb4d6a2ca0",
   "metadata": {},
   "outputs": [],
   "source": []
  }
 ],
 "metadata": {
  "kernelspec": {
   "display_name": "Python 3 (ipykernel)",
   "language": "python",
   "name": "python3"
  },
  "language_info": {
   "codemirror_mode": {
    "name": "ipython",
    "version": 3
   },
   "file_extension": ".py",
   "mimetype": "text/x-python",
   "name": "python",
   "nbconvert_exporter": "python",
   "pygments_lexer": "ipython3",
   "version": "3.9.13"
  }
 },
 "nbformat": 4,
 "nbformat_minor": 5
}
