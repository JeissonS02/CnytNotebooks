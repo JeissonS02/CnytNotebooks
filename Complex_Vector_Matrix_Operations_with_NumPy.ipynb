{
 "cells": [
  {
   "cell_type": "markdown",
   "id": "a07bd584",
   "metadata": {},
   "source": [
    "# Theory of Complex Vector Spaces\n",
    "Complex vector spaces extend the idea of real vector spaces by allowing vectors to have complex numbers as their components. In these spaces, vectors can be added together and multiplied by complex scalars to produce new vectors. Key operations in complex vector spaces include vector addition, scalar multiplication, vector negation, and complex conjugation."
   ]
  },
  {
   "cell_type": "markdown",
   "id": "f43fc972-23ab-4d81-aa26-c51325dac8f3",
   "metadata": {},
   "source": [
    "# Creating complex column vectors"
   ]
  },
  {
   "cell_type": "code",
   "execution_count": null,
   "id": "029f08ba-1cdc-4928-9631-f62c51ab7aa5",
   "metadata": {},
   "outputs": [],
   "source": [
    "import numpy as np\n",
    "\n",
    "# Define a 2x2 square matrix\n",
    "matrix = np.array([[2, 3],\n",
    "                   [1, 4]])\n",
    "\n",
    "# Define a vector of size 2\n",
    "vector = np.array([5, 6])\n",
    "\n",
    "# Multiply the matrix by the vector\n",
    "result = np.dot(matrix, vector)\n",
    "\n",
    "# Display the result\n",
    "print(\"Matrix:\\n\", matrix)\n",
    "print(\"\\nVector:\\n\", vector)\n",
    "print(\"\\nResult of multiplication:\\n\", result)\n"
   ]
  },
  {
   "cell_type": "markdown",
   "id": "975c2284",
   "metadata": {},
   "source": [
    "## Manipulating Complex Column Vectors using NumPy\n",
    "Here we demonstrate how to manipulate complex column vectors using NumPy, including operations like sum, negation, multiplication by a scalar, transpose, adjunct, and conjugate."
   ]
  },
  {
   "cell_type": "code",
   "execution_count": null,
   "id": "e8058abe",
   "metadata": {},
   "outputs": [],
   "source": [
    "\n",
    "import numpy as np\n",
    "\n",
    "# Define two complex column vectors\n",
    "v1 = np.array([[2+3j], [5-4j], [1+1j]])\n",
    "v2 = np.array([[1-1j], [3+2j], [4-4j]])\n",
    "\n",
    "# Sum\n",
    "sum_v = v1 + v2\n",
    "\n",
    "# Negation\n",
    "neg_v1 = -v1\n",
    "\n",
    "# Multiplication by a scalar\n",
    "scalar = 2 + 1j\n",
    "mult_v1 = v1 * scalar\n",
    "\n",
    "# Transpose\n",
    "transpose_v1 = v1.T\n",
    "\n",
    "# Adjunct (Conjugate transpose)\n",
    "adjunct_v1 = v1.T.conj()\n",
    "\n",
    "# Conjugate\n",
    "conjugate_v1 = np.conjugate(v1)\n",
    "\n",
    "(sum_v, neg_v1, mult_v1, transpose_v1, adjunct_v1, conjugate_v1)\n"
   ]
  },
  {
   "cell_type": "markdown",
   "id": "995ae5fc",
   "metadata": {},
   "source": [
    "# Theory of Vector Spaces using Matrices\n",
    "In the context of matrices, vector spaces can be defined where each vector is a matrix of a particular size. Operations on these matrix-vector spaces include matrix addition, scalar multiplication, matrix negation, transpose, adjunct, and conjugate. In this section, we focus on square matrices of size 3x3."
   ]
  },
  {
   "cell_type": "markdown",
   "id": "9385c1f0",
   "metadata": {},
   "source": [
    "## Manipulating Square Matrices using NumPy\n",
    "Examples of how to manipulate 3x3 square matrices using NumPy, showing operations such as sum, negation, multiplication by a scalar, conjugate, transpose, and adjunct."
   ]
  },
  {
   "cell_type": "code",
   "execution_count": null,
   "id": "b81ecc57",
   "metadata": {},
   "outputs": [],
   "source": [
    "\n",
    "# Define two 3x3 complex matrices\n",
    "m1 = np.array([[2+3j, 4-1j, 0], \n",
    "               [1+1j, 3+3j, 5], \n",
    "               [4, 6-2j, 1-1j]])\n",
    "m2 = np.array([[1, 2+1j, 3-3j], \n",
    "               [0, -1+2j, 1-2j], \n",
    "               [3+3j, 2, 4+4j]])\n",
    "\n",
    "# Sum\n",
    "sum_m = m1 + m2\n",
    "\n",
    "# Negation\n",
    "neg_m1 = -m1\n",
    "\n",
    "# Multiplication by a scalar\n",
    "scalar = 0.5 + 0.5j\n",
    "mult_m1 = m1 * scalar\n",
    "\n",
    "# Conjugate\n",
    "conjugate_m1 = np.conjugate(m1)\n",
    "\n",
    "# Transpose\n",
    "transpose_m1 = m1.T\n",
    "\n",
    "# Adjunct (Conjugate transpose)\n",
    "adjunct_m1 = m1.T.conj()\n",
    "\n",
    "(sum_m, neg_m1, mult_m1, conjugate_m1, transpose_m1, adjunct_m1)\n"
   ]
  },
  {
   "cell_type": "markdown",
   "id": "ed909545-8a5c-4cca-85f7-48688b597598",
   "metadata": {},
   "source": [
    "## Checking the Dimension of a Matrix\n",
    "We can check the dimension of a matrix using the `.shape` attribute."
   ]
  },
  {
   "cell_type": "code",
   "execution_count": null,
   "id": "0930dc10-af6d-427f-bbcb-75bfaf051db5",
   "metadata": {},
   "outputs": [],
   "source": [
    "# Checking the dimension of matrix1\n",
    "m1.shape"
   ]
  },
  {
   "cell_type": "markdown",
   "id": "b3fe896b",
   "metadata": {},
   "source": [
    "## Action of a Matrix on a Vector\n",
    "Finally, examples of how to use Python to multiply a 3x3 square matrix by a 3x1 column vector."
   ]
  },
  {
   "cell_type": "code",
   "execution_count": null,
   "id": "e514d047",
   "metadata": {},
   "outputs": [],
   "source": [
    "\n",
    "# Multiplying a 3x3 matrix by a 3x1 vector\n",
    "result = np.dot(m1, v1)\n",
    "result\n"
   ]
  },
  {
   "cell_type": "markdown",
   "id": "5adf9d8a-af43-4074-ab1a-3cabdc4accff",
   "metadata": {},
   "source": [
    "# Exercises on Complex Vectors and Matrices with Concrete Cases\n",
    "\n",
    "This set of exercises focuses on operations with complex column vectors and complex square matrices, including concrete cases with vectors and matrices written in LaTeX format.\n",
    "\n",
    "## Complex Column Vector Operations\n",
    "\n",
    "### Exercise 1: Sum of Two Complex Vectors\n",
    "Given two complex vectors \n",
    "$ v1 = \\begin{bmatrix} 1 + 2i \\\\ 3 - i \\end{bmatrix} $ \n",
    "and \n",
    "$ v2 = \\begin{bmatrix} 2 - i \\\\ 4 + 2i \\end{bmatrix} $, \n",
    "find their sum.\n",
    "\n",
    "### Exercise 2: Negation of a Complex Vector\n",
    "Given a complex vector \n",
    "$ v = \\begin{bmatrix} 2 + 3i \\\\ 1 - 2i \\end{bmatrix} $, \n",
    "find its negation.\n",
    "\n",
    "### Exercise 3: Multiplication of a Complex Vector by a Scalar\n",
    "Multiply the complex vector \n",
    "$ v = \\begin{bmatrix} 1 - i \\\\ 2 + 2i \\end{bmatrix} $ \n",
    "by the complex scalar $$ 3 + i $$.\n",
    "\n",
    "### Exercise 4: Transpose of a Complex Vector\n",
    "Find the transpose of the complex vector \n",
    "$ v = \\begin{bmatrix} 2 - i \\\\ 3 + 4i \\end{bmatrix} $.\n",
    "\n",
    "### Exercise 5: Conjugate of a Complex Vector\n",
    "Compute the conjugate of the complex vector \n",
    "$ v = \\begin{bmatrix} 1 + i \\\\ 2 - 3i \\end{bmatrix} $.\n",
    "\n",
    "### Exercise 6: Adjunct (Conjugate Transpose) of a Complex Vector\n",
    "Find the adjunct (or conjugate transpose) of the complex vector \n",
    "$ v = \\begin{bmatrix} 1 - 2i \\\\ 3 + i \\end{bmatrix} $.\n",
    "\n",
    "## Complex Square Matrix Operations\n",
    "\n",
    "### Exercise 7: Sum of Two Complex Matrices\n",
    "Given two complex matrices \n",
    "$ m1 = \\begin{bmatrix} 1 + i & 2 - i \\\\ 3 + 2i & 4 \\end{bmatrix} $\n",
    "and \n",
    "$ m2 = \\begin{bmatrix} 2 - 3i & 1 \\\\ i & 2 + 2i \\end{bmatrix} $, \n",
    "calculate their sum.\n",
    "\n",
    "### Exercise 8: Negation of a Complex Matrix\n",
    "Find the negation of the complex matrix \n",
    "$ m = \\begin{bmatrix} 2 + i & 3 \\\\ 1 - i & 2 + 2i \\end{bmatrix} $.\n",
    "\n",
    "### Exercise 9: Multiplication of a Complex Matrix by a Scalar\n",
    "Multiply the complex matrix \n",
    "$ m = \\begin{bmatrix} 1 - i & 2 \\\\ 3 + i & 4 - 2i \\end{bmatrix} $ \n",
    "by the complex scalar $$ 2 + 3i $$.\n",
    "\n",
    "### Exercise 10: Conjugate of a Complex Matrix\n",
    "Compute the conjugate of the complex matrix \n",
    "$ m = \\begin{bmatrix} 1 + i & 2 \\\\ 3 - i & 4 + 2i \\end{bmatrix} $.\n",
    "\n",
    "### Exercise 11: Transpose of a Complex Matrix\n",
    "Find the transpose of the complex matrix \n",
    "$ m = \\begin{bmatrix} 1 - i & 2 + 2i \\\\ 3 & 4 - i \\end{bmatrix} $.\n",
    "\n",
    "### Exercise 12: Adjunct (Conjugate Transpose) of a Complex Matrix\n",
    "Calculate the adjunct (or conjugate transpose) of the complex matrix \n",
    "$ m = \\begin{bmatrix} 1 + 2i & 3 - i \\\\ 4 & 5 + i \\end{bmatrix} $.\n",
    "\n",
    "### Exercise 13: Checking the Dimensions of a Matrix\n",
    "Determine the dimensions of the complex matrix \n",
    "$ m = \\begin{bmatrix} 1 - i & 2 \\\\ 3 + 2i & 4 - i \\end{bmatrix} $.\n",
    "\n",
    "## Multiplication of Matrices and Vectors\n",
    "\n",
    "### Exercise 14: Multiplying a Complex Square Matrix by a Complex Column Vector\n",
    "Multiply the complex square matrix \n",
    "$ m = \\begin{bmatrix} 1 + i & 2 - i \\\\ 3 & 4 + i \\end{bmatrix} $ \n",
    "by the complex column vector \n",
    "$ v = \\begin{bmatrix} 2 - i \\\\ 1 + 3i \\end{bmatrix} $.\n",
    "\n",
    "## Instructions\n",
    "For each exercise, ensure to display both the input (vectors/matrices) and the result of the operation.Use NumPy for these exercises to practice handling complex numbers and matrix operations in Python.\n"
   ]
  },
  {
   "cell_type": "markdown",
   "id": "5f2be2f9-8d52-48d9-bb22-ccc378fd9be7",
   "metadata": {},
   "source": [
    "## Exercise 1\n",
    "\n",
    "### Sum of Two Complex Vectors\n",
    "\n",
    "Given two complex vectors \n",
    "$ v1 = \\begin{bmatrix} 1 + 2i \\\\ 3 - i \\end{bmatrix} $ \n",
    "and \n",
    "$ v2 = \\begin{bmatrix} 2 - i \\\\ 4 + 2i \\end{bmatrix} $, \n",
    "find their sum."
   ]
  },
  {
   "cell_type": "code",
   "execution_count": 2,
   "id": "a8c8fb9e-2507-447b-a13f-f97f0ef379dd",
   "metadata": {},
   "outputs": [
    {
     "name": "stdout",
     "output_type": "stream",
     "text": [
      "Resultado: [[3.+1.j]\n",
      " [7.+1.j]]\n"
     ]
    }
   ],
   "source": [
    "import numpy as np\n",
    "\n",
    "# Definir los vectores \n",
    "v1 = np.array([[1+2j],\n",
    "               [3-1j]])\n",
    "\n",
    "v2 = np.array([[2-1j],\n",
    "               [4+2j]])\n",
    "\n",
    "# Sumar los vectores\n",
    "resultado = v1 + v2\n",
    "\n",
    "print(\"Resultado:\" ,resultado)"
   ]
  },
  {
   "cell_type": "markdown",
   "id": "834f984c-7d70-47c8-8f94-52ca045df3ca",
   "metadata": {},
   "source": [
    "## Exercise 2\n",
    "### Negation of a Complex Vector\n",
    "\n",
    "Given a complex vector \n",
    "$ v = \\begin{bmatrix} 2 + 3i \\\\ 1 - 2i \\end{bmatrix} $, \n",
    "find its negation.\n"
   ]
  },
  {
   "cell_type": "code",
   "execution_count": 4,
   "id": "e4359c04-a787-4583-824b-e57d9b09816d",
   "metadata": {},
   "outputs": [
    {
     "name": "stdout",
     "output_type": "stream",
     "text": [
      "Resultado: [(-2-3j), (-1+2j)]\n"
     ]
    }
   ],
   "source": [
    "def negacion_vector_complejo(vector):\n",
    "    \n",
    "    return [-1 * elemento for elemento in vector]\n",
    "\n",
    "# Vector complejo dado\n",
    "v = [2 + 3j, 1 - 2j]\n",
    "\n",
    "negacion_v = negacion_vector_complejo(v)\n",
    "\n",
    "print(\"Resultado:\", negacion_v)\n"
   ]
  },
  {
   "cell_type": "markdown",
   "id": "b16830c0-0ecd-479b-af7a-b87e91454c3b",
   "metadata": {},
   "source": [
    "## Exercise 3:\n",
    "### Multiplication of a Complex Vector by a Scalar\n",
    "\n",
    "Multiply the complex vector \n",
    "$ v = \\begin{bmatrix} 1 - i \\\\ 2 + 2i \\end{bmatrix} $ \n",
    "by the complex scalar $$ 3 + i $$."
   ]
  },
  {
   "cell_type": "code",
   "execution_count": 5,
   "id": "99c9c4e6-5932-4768-8d1c-c722b47a917d",
   "metadata": {},
   "outputs": [
    {
     "name": "stdout",
     "output_type": "stream",
     "text": [
      "Resultado: [(4-2j), (4+8j)]\n"
     ]
    }
   ],
   "source": [
    "def multiplicacion_vector_escalar(vector, escalar):\n",
    "  \n",
    "    return [elemento * escalar for elemento in vector]\n",
    "\n",
    "v = [1 - 1j, 2 + 2j]\n",
    "\n",
    "escalar = 3 + 1j\n",
    "\n",
    "resultado = multiplicacion_vector_escalar(v, escalar)\n",
    "\n",
    "# Imprimir resultado\n",
    "print(\"Resultado:\", resultado)"
   ]
  },
  {
   "cell_type": "markdown",
   "id": "e0356255-6bc8-4137-8126-9126955aad0f",
   "metadata": {},
   "source": [
    "## Exercise 4: \n",
    "### Transpose of a Complex Vector\n",
    "Find the transpose of the complex vector \n",
    "$ v = \\begin{bmatrix} 2 - i \\\\ 3 + 4i \\end{bmatrix} $."
   ]
  },
  {
   "cell_type": "code",
   "execution_count": 7,
   "id": "84ece101-02b6-4e4d-a192-61013d5acc97",
   "metadata": {},
   "outputs": [
    {
     "name": "stdout",
     "output_type": "stream",
     "text": [
      "Resultado:\n",
      "[(2-1j), (3+4j)]\n"
     ]
    }
   ],
   "source": [
    "import numpy as np\n",
    "\n",
    "def transpuesta_vector_complejo(vector):\n",
    "    \n",
    "    matriz_vector = np.array(vector)\n",
    "    matriz_transpuesta = matriz_vector.T\n",
    "    return matriz_transpuesta.tolist()\n",
    "\n",
    "# Vector complejo dado\n",
    "v = [[2 - 1j],\n",
    "     [3 + 4j]]\n",
    "\n",
    "transpuesta_v = transpuesta_vector_complejo(v)\n",
    "\n",
    "# Imprimir resultado\n",
    "print(\"Resultado:\")\n",
    "for fila in transpuesta_v:\n",
    "    print(fila)"
   ]
  },
  {
   "cell_type": "markdown",
   "id": "0fde653c-cb97-4f24-acf6-f9f3a3c24973",
   "metadata": {},
   "source": [
    "## Exercise 5: \n",
    "### Conjugate of a Complex Vector\n",
    "Compute the conjugate of the complex vectorA\n",
    "$ v = \\begin{bmatrix} 1 + i \\\\ 2 - 3i \\end{bmatrix} $."
   ]
  },
  {
   "cell_type": "code",
   "execution_count": 27,
   "id": "5edc8fd1-76e4-490f-a17c-590d498c43d1",
   "metadata": {},
   "outputs": [
    {
     "name": "stdout",
     "output_type": "stream",
     "text": [
      "Resultado:: [(1-1j), (2+3j)]\n"
     ]
    }
   ],
   "source": [
    "def conjugado_vector_complejo(vector):\n",
    "   \n",
    "    return [elemento.conjugate() for elemento in vector]\n",
    "\n",
    "# Vector complejo dado\n",
    "v = [1 + 1j, 2 - 3j]\n",
    "\n",
    "# Conjugado del vector\n",
    "conjugado_v = conjugado_vector_complejo(v)\n",
    "\n",
    "# Imprimir resultado\n",
    "print(\"Resultado::\", conjugado_v)"
   ]
  },
  {
   "cell_type": "markdown",
   "id": "85ee4459-f1c6-48c3-87ac-dbb1eb3423c7",
   "metadata": {},
   "source": [
    "##  Exercise 6: \n",
    "### Adjunct (Conjugate Transpose) of a Complex Vector\n",
    "Find the adjunct (or conjugate transpose) of the complex vector \n",
    "$ v = \\begin{bmatrix} 1 - 2i \\\\ 3 + i \\end{bmatrix} $.\n"
   ]
  },
  {
   "cell_type": "code",
   "execution_count": 31,
   "id": "4979e1f5-cc80-4279-8455-46c19448e895",
   "metadata": {},
   "outputs": [
    {
     "name": "stdout",
     "output_type": "stream",
     "text": [
      "Resultado:\n",
      "[(1+2j), (3-1j)]\n"
     ]
    }
   ],
   "source": [
    "import numpy as np\n",
    "\n",
    "def adjunto_vector_complejo(vector):\n",
    "   \n",
    "    matriz_vector = np.array(vector)\n",
    "    transpuesta_conjugada = matriz_vector.T.conj()\n",
    "    return transpuesta_conjugada.tolist()\n",
    "\n",
    "v = [[1 - 2j],\n",
    "     [3 + 1j]]\n",
    "\n",
    "adjunto_v = adjunto_vector_complejo(v)\n",
    "\n",
    "print(\"Resultado:\")\n",
    "for fila in adjunto_v:\n",
    "    print(fila)"
   ]
  },
  {
   "cell_type": "markdown",
   "id": "8f31d27a-f755-44e6-96bc-757a51318a65",
   "metadata": {},
   "source": [
    "## Complex Square Matrix Operations\n",
    "\n",
    "## Exercise 7:\n",
    "### Sum of Two Complex Matrices\n",
    "\n",
    "Given two complex matrices \n",
    "$ m1 = \\begin{bmatrix} 1 + i & 2 - i \\\\ 3 + 2i & 4 \\end{bmatrix} $\n",
    "and \n",
    "$ m2 = \\begin{bmatrix} 2 - 3i & 1 \\\\ i & 2 + 2i \\end{bmatrix} $, \n",
    "calculate their sum."
   ]
  },
  {
   "cell_type": "code",
   "execution_count": 33,
   "id": "34c62f80-c95a-4ed6-8eb0-ae91592601cb",
   "metadata": {},
   "outputs": [
    {
     "name": "stdout",
     "output_type": "stream",
     "text": [
      "Resultado:\n",
      "[(3-2j), (3-1j)]\n",
      "[(3+3j), (6+2j)]\n"
     ]
    }
   ],
   "source": [
    "import numpy as np\n",
    "\n",
    "def suma_matrices_complejas(m1, m2):\n",
    "    \n",
    "    matriz_m1 = np.array(m1)\n",
    "    matriz_m2 = np.array(m2)\n",
    "    suma = matriz_m1 + matriz_m2\n",
    "    return suma.tolist()\n",
    "\n",
    "m1 = [[1 + 1j, 2 - 1j],\n",
    "      [3 + 2j, 4]]\n",
    "\n",
    "m2 = [[2 - 3j, 1],\n",
    "      [1j, 2 + 2j]]\n",
    "\n",
    "resultado = suma_matrices_complejas(m1, m2)\n",
    "\n",
    "print(\"Resultado:\")\n",
    "for fila in resultado:\n",
    "    print(fila)"
   ]
  },
  {
   "cell_type": "markdown",
   "id": "393c0639-5249-4d44-b54e-22a829f191a1",
   "metadata": {},
   "source": [
    "## Exercise 8: \n",
    "### Negation of a Complex Matrix\n",
    "Find the negation of the complex matrix \n",
    "$ m = \\begin{bmatrix} 2 + i & 3 \\\\ 1 - i & 2 + 2i \\end{bmatrix} $.\n"
   ]
  },
  {
   "cell_type": "code",
   "execution_count": 34,
   "id": "be0445f9-eda8-42f8-9a10-985a3a1f2885",
   "metadata": {},
   "outputs": [
    {
     "name": "stdout",
     "output_type": "stream",
     "text": [
      "Resultado:\n",
      "[(-2-1j), (-3-0j)]\n",
      "[(-1+1j), (-2-2j)]\n"
     ]
    }
   ],
   "source": [
    "import numpy as np\n",
    "\n",
    "def negacion_matriz_compleja(matriz):\n",
    "   \n",
    "    negacion = np.negative(matriz)\n",
    "    return negacion.tolist()\n",
    "\n",
    "m = [[2 + 1j, 3], [1 - 1j, 2 + 2j]]\n",
    "\n",
    "resultado = negacion_matriz_compleja(m)\n",
    "\n",
    "print(\"Resultado:\")\n",
    "for fila in resultado:\n",
    "    print(fila)"
   ]
  },
  {
   "cell_type": "markdown",
   "id": "8a734679-9313-4dcb-9097-34ee3baaa03b",
   "metadata": {},
   "source": [
    "## Exercise 9: \n",
    "### Multiplication of a Complex Matrix by a Scalar\n",
    "Multiply the complex matrix \n",
    "$ m = \\begin{bmatrix} 1 - i & 2 \\\\ 3 + i & 4 - 2i \\end{bmatrix} $ \n",
    "by the complex scalar $$ 2 + 3i $$."
   ]
  },
  {
   "cell_type": "code",
   "execution_count": 35,
   "id": "1ab85b0e-9f08-4fdb-9f39-36a8a1e651c3",
   "metadata": {},
   "outputs": [
    {
     "name": "stdout",
     "output_type": "stream",
     "text": [
      "Resultado:\n",
      "[(5+1j), (4+6j)]\n",
      "[(3+11j), (14+8j)]\n"
     ]
    }
   ],
   "source": [
    "import numpy as np\n",
    "\n",
    "def multiplicacion_matriz_escalar(matriz, escalar):\n",
    " \n",
    "    matriz_np = np.array(matriz)\n",
    "    resultado = matriz_np * escalar\n",
    "    return resultado.tolist()\n",
    "    \n",
    "m = [[1 - 1j, 2],\n",
    "     [3 + 1j, 4 - 2j]]\n",
    "\n",
    "escalar = 2 + 3j\n",
    "\n",
    "resultado = multiplicacion_matriz_escalar(m, escalar)\n",
    "\n",
    "print(\"Resultado:\")\n",
    "for fila in resultado:\n",
    "    print(fila)"
   ]
  },
  {
   "cell_type": "markdown",
   "id": "b9db1986-49b1-4261-af56-313dea549a78",
   "metadata": {},
   "source": [
    "## Exercise 10: \n",
    "### Conjugate of a Complex Matrix\n",
    "Compute the conjugate of the complex matrix \n",
    "$ m = \\begin{bmatrix} 1 + i & 2 \\\\ 3 - i & 4 + 2i \\end{bmatrix} $.\n"
   ]
  },
  {
   "cell_type": "code",
   "execution_count": 36,
   "id": "9ce4a7fc-766e-4ee4-a5cc-1c7fd5c77f6f",
   "metadata": {},
   "outputs": [
    {
     "name": "stdout",
     "output_type": "stream",
     "text": [
      "Resultado:\n",
      "[(1-1j), 2]\n",
      "[(3+1j), (4-2j)]\n"
     ]
    }
   ],
   "source": [
    "def conjugado_matriz_compleja(matriz):\n",
    "    \n",
    "    conjugado = [[elemento.conjugate() for elemento in fila] for fila in matriz]\n",
    "    return conjugado\n",
    "\n",
    "m = [[1 + 1j, 2],\n",
    "     [3 - 1j, 4 + 2j]]\n",
    "\n",
    "resultado = conjugado_matriz_compleja(m)\n",
    "\n",
    "print(\"Resultado:\")\n",
    "for fila in resultado:\n",
    "    print(fila)"
   ]
  },
  {
   "cell_type": "markdown",
   "id": "4d38796a-b8c5-4b09-8340-bc509873465d",
   "metadata": {},
   "source": [
    "\n",
    "## Exercise 11: \n",
    "### Transpose of a Complex Matrix\n",
    "Find the transpose of the complex matrix \n",
    "$ m = \\begin{bmatrix} 1 - i & 2 + 2i \\\\ 3 & 4 - i \\end{bmatrix} $.\n"
   ]
  },
  {
   "cell_type": "code",
   "execution_count": 38,
   "id": "8a9c707a-c24d-45b1-a213-af65d591aad6",
   "metadata": {},
   "outputs": [
    {
     "name": "stdout",
     "output_type": "stream",
     "text": [
      "Resultado:\n",
      "[(1-1j), (3+0j)]\n",
      "[(2+2j), (4-1j)]\n"
     ]
    }
   ],
   "source": [
    "import numpy as np\n",
    "\n",
    "def transpuesta_matriz_compleja(matriz):\n",
    "  \n",
    "    matriz_np = np.array(matriz)\n",
    "    transpuesta = matriz_np.T\n",
    "    return transpuesta.tolist()\n",
    "\n",
    "m = [[1 - 1j, 2 + 2j],\n",
    "     [3, 4 - 1j]]\n",
    "\n",
    "resultado = transpuesta_matriz_compleja(m)\n",
    "\n",
    "print(\"Resultado:\")\n",
    "for fila in resultado:\n",
    "    print(fila)"
   ]
  },
  {
   "cell_type": "markdown",
   "id": "e565d97b-554e-4977-a65c-5b9df4e745e9",
   "metadata": {},
   "source": [
    "## Exercise 12: \n",
    "### Adjunct (Conjugate Transpose) of a Complex Matrix\n",
    "Calculate the adjunct (or conjugate transpose) of the complex matrix \n",
    "$ m = \\begin{bmatrix} 1 + 2i & 3 - i \\\\ 4 & 5 + i \\end{bmatrix} $.\n"
   ]
  },
  {
   "cell_type": "code",
   "execution_count": 40,
   "id": "1820f2f8-c955-415a-98ea-f56895f29d2e",
   "metadata": {},
   "outputs": [
    {
     "name": "stdout",
     "output_type": "stream",
     "text": [
      "Resultado:\n",
      "[(1-2j), (4-0j)]\n",
      "[(3+1j), (5-1j)]\n"
     ]
    }
   ],
   "source": [
    "\n",
    "import numpy as np\n",
    "\n",
    "def adjunto_matriz_compleja(matriz):\n",
    "   \n",
    "    matriz_np = np.array(matriz)\n",
    "    adjunto = np.conj(matriz_np.T)\n",
    "    return adjunto.tolist()\n",
    "\n",
    "m = [[1 + 2j, 3 - 1j],\n",
    "     [4, 5 + 1j]]\n",
    "\n",
    "resultado = adjunto_matriz_compleja(m)\n",
    "\n",
    "print(\"Resultado:\")\n",
    "for fila in resultado:\n",
    "    print(fila)"
   ]
  },
  {
   "cell_type": "markdown",
   "id": "f8f58da6-fbaa-43fa-a56c-8091262fbbcc",
   "metadata": {},
   "source": [
    "\n",
    "\n",
    "## Exercise 13: \n",
    "### Checking the Dimensions of a Matrix\n",
    "Determine the dimensions of the complex matrix \n",
    "$ m = \\begin{bmatrix} 1 - i & 2 \\\\ 3 + 2i & 4 - i \\end{bmatrix} $.\n"
   ]
  },
  {
   "cell_type": "code",
   "execution_count": 41,
   "id": "35521b0a-9c57-468b-a28b-8e29e141fd5e",
   "metadata": {},
   "outputs": [
    {
     "name": "stdout",
     "output_type": "stream",
     "text": [
      "Filas: 2 Columnas: 2\n"
     ]
    }
   ],
   "source": [
    "def dimensiones_matriz(matriz):\n",
    "   \n",
    "    num_filas = len(matriz)\n",
    "    num_columnas = len(matriz[0])\n",
    "    return num_filas, num_columnas\n",
    "\n",
    "m = [[1 - 1j, 2],\n",
    "     [3 + 2j, 4 - 1j]]\n",
    "\n",
    "filas, columnas = dimensiones_matriz(m)\n",
    "\n",
    "print(\"Filas:\", filas, \"Columnas:\" , columnas)"
   ]
  },
  {
   "cell_type": "markdown",
   "id": "74c2ff4f-3691-489d-8fe8-a4e347c97437",
   "metadata": {},
   "source": [
    "\n",
    "## Multiplication of Matrices and Vectors\n",
    "\n",
    "## Exercise 14: \n",
    "### Multiplying a Complex Square Matrix by a Complex Column Vector\n",
    "Multiply the complex square matrix \n",
    "$ m = \\begin{bmatrix} 1 + i & 2 - i \\\\ 3 & 4 + i \\end{bmatrix} $ \n",
    "by the complex column vector \n",
    "$ v = \\begin{bmatrix} 2 - i \\\\ 1 + 3i \\end{bmatrix} $.\n",
    "\n",
    "\n"
   ]
  },
  {
   "cell_type": "code",
   "execution_count": 43,
   "id": "7770c1fe-c337-4393-9582-f2394eecf175",
   "metadata": {},
   "outputs": [
    {
     "name": "stdout",
     "output_type": "stream",
     "text": [
      "Resultado:\n",
      "(8+6j)\n",
      "(7+10j)\n"
     ]
    }
   ],
   "source": [
    "import numpy as np\n",
    "\n",
    "def multiplicar_matriz_por_vector(matriz, vector):\n",
    "    \n",
    "    resultado = []\n",
    "    for fila in matriz:\n",
    "        producto_punto = np.dot(fila, vector)\n",
    "        resultado.append(producto_punto)\n",
    "    return resultado\n",
    "\n",
    "m = [[1 + 1j, 2 - 1j],\n",
    "     [3, 4 + 1j]]\n",
    "v = [2 - 1j, 1 + 3j]\n",
    "\n",
    "resultado = multiplicar_matriz_por_vector(m, v)\n",
    "\n",
    "print(\"Resultado:\")\n",
    "for elemento in resultado:\n",
    "    print(elemento)"
   ]
  },
  {
   "cell_type": "code",
   "execution_count": null,
   "id": "0f21594e-5c23-4438-b5f8-ca9736b7ac70",
   "metadata": {},
   "outputs": [],
   "source": []
  }
 ],
 "metadata": {
  "kernelspec": {
   "display_name": "Python 3 (ipykernel)",
   "language": "python",
   "name": "python3"
  },
  "language_info": {
   "codemirror_mode": {
    "name": "ipython",
    "version": 3
   },
   "file_extension": ".py",
   "mimetype": "text/x-python",
   "name": "python",
   "nbconvert_exporter": "python",
   "pygments_lexer": "ipython3",
   "version": "3.9.13"
  }
 },
 "nbformat": 4,
 "nbformat_minor": 5
}
